{
 "cells": [
  {
   "cell_type": "code",
   "execution_count": 1,
   "id": "da3deea1",
   "metadata": {},
   "outputs": [],
   "source": [
    "import sys\n",
    "import os\n",
    "\n",
    "project_root = os.path.abspath(\"..\")\n",
    "src_path = os.path.join(project_root, \"src\")\n",
    "\n",
    "if src_path not in sys.path:\n",
    "    sys.path.insert(0, src_path)\n"
   ]
  },
  {
   "cell_type": "code",
   "execution_count": 2,
   "id": "928852ab",
   "metadata": {},
   "outputs": [],
   "source": [
    "import numpy as np\n",
    "from algorithmic_arc.complexity.lib.conditional_ca_ctm import compute_conditional_ca_ctm\n",
    "\n",
    "def shift_right(mat, steps=1):\n",
    "    return np.roll(mat, shift=steps, axis=1)\n",
    "\n",
    "def shift_left(mat, steps=1):\n",
    "    return np.roll(mat, shift=-steps, axis=1)\n",
    "\n",
    "def shift_down(mat, steps=1):\n",
    "    return np.roll(mat, shift=steps, axis=0)\n",
    "\n",
    "def shift_up(mat, steps=1):\n",
    "    return np.roll(mat, shift=-steps, axis=0)\n",
    "\n",
    "def shift_diag_down_right(mat, steps=1):\n",
    "    return np.roll(np.roll(mat, shift=steps, axis=0), shift=steps, axis=1)\n",
    "\n",
    "def shift_diag_down_left(mat, steps=1):\n",
    "    return np.roll(np.roll(mat, shift=steps, axis=0), shift=-steps, axis=1)\n",
    "\n",
    "def shift_diag_up_right(mat, steps=1):\n",
    "    return np.roll(np.roll(mat, shift=-steps, axis=0), shift=steps, axis=1)\n",
    "\n",
    "def shift_diag_up_left(mat, steps=1):\n",
    "    return np.roll(np.roll(mat, shift=-steps, axis=0), shift=-steps, axis=1)"
   ]
  },
  {
   "cell_type": "code",
   "execution_count": 3,
   "id": "8cd67cc9",
   "metadata": {},
   "outputs": [],
   "source": [
    "import matplotlib.pyplot as plt\n",
    "\n",
    "def plot_matrix_pair(x, y, k_val, m_val, index):\n",
    "    fig, axes = plt.subplots(1, 2, figsize=(4, 2.5))\n",
    "    cmap = plt.cm.binary\n",
    "\n",
    "    for ax, mat, title in zip(axes, [x, y], ['Input $X$', 'Target $Y$']):\n",
    "        ax.imshow(mat, cmap=cmap, vmin=0, vmax=1)\n",
    "        ax.set_xticks(np.arange(-.5, mat.shape[1], 1), minor=True)\n",
    "        ax.set_yticks(np.arange(-.5, mat.shape[0], 1), minor=True)\n",
    "        ax.grid(which=\"minor\", color=\"gray\", linestyle='-', linewidth=1)\n",
    "        ax.tick_params(which=\"both\", bottom=False, left=False, labelbottom=False, labelleft=False)\n",
    "        ax.set_title(title)\n",
    "\n",
    "    plt.suptitle(f\"Pair {index+1}\\n$K(Y|X) = {k_val:.4f}$, $m(Y|X) = {m_val:.4f}$\", fontsize=10)\n",
    "    plt.tight_layout()\n",
    "    plt.show()\n"
   ]
  },
  {
   "cell_type": "code",
   "execution_count": 5,
   "id": "6134bdab",
   "metadata": {},
   "outputs": [
    {
     "data": {
      "image/png": "[encoded data removed]",
      "text/plain": [
       "<Figure size 400x250 with 2 Axes>"
      ]
     },
     "metadata": {},
     "output_type": "display_data"
    },
    {
     "data": {
      "image/png": "[encoded data removed]",
      "text/plain": [
       "<Figure size 400x250 with 2 Axes>"
      ]
     },
     "metadata": {},
     "output_type": "display_data"
    },
    {
     "data": {
      "image/png": "[encoded data removed]",
      "text/plain": [
       "<Figure size 400x250 with 2 Axes>"
      ]
     },
     "metadata": {},
     "output_type": "display_data"
    }
   ],
   "source": [
    "# Input matrices\n",
    "x1 = np.array([\n",
    "    [1, 1, 1, 1],\n",
    "    [1, 1, 1, 1],\n",
    "    [1, 0, 1, 0],\n",
    "    [1, 0, 0, 1]\n",
    "], dtype=np.uint32)\n",
    "\n",
    "y1 = np.array([\n",
    "    [1, 1, 1, 1],\n",
    "    [0, 1, 1, 1],\n",
    "    [0, 0, 0, 1],\n",
    "    [0, 0, 0, 1]\n",
    "], dtype=np.uint32)\n",
    "\n",
    "x2 = np.array([\n",
    "    [1, 1, 1, 0],\n",
    "    [1, 1, 1, 0],\n",
    "    [1, 1, 1, 0],\n",
    "    [1, 1, 1, 0]\n",
    "], dtype=np.uint32)\n",
    "\n",
    "y2 = shift_left(x2)\n",
    "\n",
    "x3 = np.array([\n",
    "    [0, 0, 0, 0],\n",
    "    [0, 0, 0, 0],\n",
    "    [1, 1, 1, 1],\n",
    "    [1, 1, 1, 1]\n",
    "], dtype=np.uint32)\n",
    "\n",
    "y3 = shift_diag_down_left(x3)\n",
    "\n",
    "# Stack for compute\n",
    "xs = np.stack([x1, x2, x3])\n",
    "ys = np.stack([y1, y2, y3])\n",
    "\n",
    "results = compute_conditional_ca_ctm(xs, ys, num_rules=1_000_000, seed=42, boundary_mode=1)\n",
    "\n",
    "# Plot\n",
    "for i, (x, y, (k, m)) in enumerate(zip(xs, ys, results)):\n",
    "    plot_matrix_pair(x, y, k, m, i)\n",
    "\n"
   ]
  },
  {
   "cell_type": "code",
   "execution_count": null,
   "id": "f4e67d76",
   "metadata": {},
   "outputs": [],
   "source": []
  }
 ],
 "metadata": {
  "kernelspec": {
   "display_name": "Poetry: Algorithmic Arc",
   "language": "python",
   "name": "algorithmic-arc"
  },
  "language_info": {
   "codemirror_mode": {
    "name": "ipython",
    "version": 3
   },
   "file_extension": ".py",
   "mimetype": "text/x-python",
   "name": "python",
   "nbconvert_exporter": "python",
   "pygments_lexer": "ipython3",
   "version": "3.11.8"
  }
 },
 "nbformat": 4,
 "nbformat_minor": 5
}
