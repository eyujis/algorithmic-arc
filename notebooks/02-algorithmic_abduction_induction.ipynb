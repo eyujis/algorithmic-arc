{
 "cells": [
  {
   "cell_type": "code",
   "execution_count": 1,
   "id": "5b64624b",
   "metadata": {},
   "outputs": [],
   "source": [
    "import sys\n",
    "import os\n",
    "\n",
    "project_root = os.path.abspath(\"..\")\n",
    "src_path = os.path.join(project_root, \"src\")\n",
    "\n",
    "if src_path not in sys.path:\n",
    "    sys.path.insert(0, src_path)"
   ]
  },
  {
   "cell_type": "code",
   "execution_count": 2,
   "id": "59ee6f2c",
   "metadata": {},
   "outputs": [],
   "source": [
    "import numpy as np\n",
    "\n",
    "# === Shifts ===\n",
    "def shift_right(mat, steps=1):\n",
    "    return np.roll(mat, shift=steps, axis=1)\n",
    "\n",
    "def shift_left(mat, steps=1):\n",
    "    return np.roll(mat, shift=-steps, axis=1)\n",
    "\n",
    "def shift_down(mat, steps=1):\n",
    "    return np.roll(mat, shift=steps, axis=0)\n",
    "\n",
    "def shift_up(mat, steps=1):\n",
    "    return np.roll(mat, shift=-steps, axis=0)\n",
    "\n",
    "def shift_diag_down_right(mat, steps=1):\n",
    "    return np.roll(np.roll(mat, shift=steps, axis=0), shift=steps, axis=1)\n",
    "\n",
    "def shift_diag_down_left(mat, steps=1):\n",
    "    return np.roll(np.roll(mat, shift=steps, axis=0), shift=-steps, axis=1)\n",
    "\n",
    "def shift_diag_up_right(mat, steps=1):\n",
    "    return np.roll(np.roll(mat, shift=-steps, axis=0), shift=steps, axis=1)\n",
    "\n",
    "def shift_diag_up_left(mat, steps=1):\n",
    "    return np.roll(np.roll(mat, shift=-steps, axis=0), shift=-steps, axis=1)\n",
    "\n",
    "# === New: Rotations (in 90-degree steps) ===\n",
    "def rotate_clockwise(mat, k=1):\n",
    "    \"\"\"Rotate 90 degrees clockwise k times (k=1 means 90°, k=2 means 180°, etc.)\"\"\"\n",
    "    return np.rot90(mat, -k)\n",
    "\n",
    "def rotate_counterclockwise(mat, k=1):\n",
    "    \"\"\"Rotate 90 degrees counterclockwise k times (k=1 means 90°, k=2 means 180°, etc.)\"\"\"\n",
    "    return np.rot90(mat, k)\n",
    "\n",
    "def invert_bits(mat):\n",
    "    \"\"\"Assumes binary matrix of 0s and 1s\"\"\"\n",
    "    return 1 - mat\n",
    "\n",
    "def spiral_clockwise(mat):\n",
    "    \"\"\"\n",
    "    Shifts all elements in the matrix one step in a clockwise spiral pattern.\n",
    "    Assumes a 2D square matrix.\n",
    "    \"\"\"\n",
    "    mat = mat.copy()\n",
    "    n, m = mat.shape\n",
    "    assert n == m, \"Spiral transform currently supports only square matrices.\"\n",
    "    \n",
    "    res = mat.copy()\n",
    "    layers = (n + 1) // 2  # Number of layers in the spiral\n",
    "\n",
    "    for layer in range(layers):\n",
    "        top = layer\n",
    "        bottom = n - layer - 1\n",
    "        left = layer\n",
    "        right = m - layer - 1\n",
    "\n",
    "        # Save last element of the current layer to wrap around\n",
    "        last = mat[top + 1][left]\n",
    "\n",
    "        # Move left column up\n",
    "        for i in range(top + 1, bottom + 1):\n",
    "            res[i - 1][left] = mat[i][left]\n",
    "\n",
    "        # Move bottom row left\n",
    "        for i in range(left + 1, right + 1):\n",
    "            res[bottom][i - 1] = mat[bottom][i]\n",
    "\n",
    "        # Move right column down\n",
    "        for i in range(bottom - 1, top - 1, -1):\n",
    "            res[i + 1][right] = mat[i][right]\n",
    "\n",
    "        # Move top row right\n",
    "        for i in range(right - 1, left - 1, -1):\n",
    "            res[top][i + 1] = mat[top][i]\n",
    "\n",
    "        # Place saved last element\n",
    "        res[top][left + 1] = last\n",
    "\n",
    "    return res\n",
    "\n"
   ]
  },
  {
   "cell_type": "code",
   "execution_count": 3,
   "id": "461551d8",
   "metadata": {},
   "outputs": [],
   "source": [
    "transformation = invert_bits "
   ]
  },
  {
   "cell_type": "markdown",
   "id": "a0bfea1f",
   "metadata": {},
   "source": [
    "## Task Definition"
   ]
  },
  {
   "cell_type": "code",
   "execution_count": 4,
   "id": "3f302df4",
   "metadata": {},
   "outputs": [],
   "source": [
    "# Example 1\n",
    "x1 = np.array([\n",
    "    [1, 1, 0, 1],\n",
    "    [1, 1, 0, 1],\n",
    "    [1, 1, 0, 1],\n",
    "    [1, 1, 0, 1]\n",
    "], dtype=np.uint8)\n",
    "\n",
    "# Example 2\n",
    "x2 = np.array([\n",
    "    [0, 1, 1, 0],\n",
    "    [0, 1, 1, 0],\n",
    "    [0, 0, 0, 0],\n",
    "    [0, 0, 0, 0]\n",
    "], dtype=np.uint8)\n",
    "\n",
    "# Example 3\n",
    "x3 = np.array([\n",
    "    [1, 0, 1, 1],\n",
    "    [1, 0, 1, 1],\n",
    "    [1, 0, 1, 1],\n",
    "    [1, 0, 1, 1]\n",
    "], dtype=np.uint8)\n",
    "\n",
    "# # Example 4\n",
    "# x4 = np.array([\n",
    "#     [1, 1, 0, 0],\n",
    "#     [1, 1, 0, 0],\n",
    "#     [0, 0, 0, 0],\n",
    "#     [0, 0, 0, 0]\n",
    "# ], dtype=np.uint8)\n",
    "\n",
    "# # Example 5\n",
    "# x5 = np.array([\n",
    "#     [0, 0, 1, 1],\n",
    "#     [0, 0, 1, 1],\n",
    "#     [0, 0, 0, 0],\n",
    "#     [0, 0, 0, 0]\n",
    "# ], dtype=np.uint8)\n",
    "\n",
    "# Test\n",
    "x_test = np.array([\n",
    "    [0, 0, 0, 0],\n",
    "    [0, 0, 0, 0],\n",
    "    [0, 0, 1, 1],\n",
    "    [0, 0, 1, 1]\n",
    "], dtype=np.uint8)\n",
    "\n",
    "\n",
    "train_xs = [x1, x2, x3]\n",
    "train_ys = [transformation(x) for x in train_xs]\n",
    "\n",
    "train_xs = np.stack(train_xs)\n",
    "train_ys = np.stack(train_ys)\n",
    "\n",
    "y_test = transformation(x_test)\n"
   ]
  },
  {
   "cell_type": "markdown",
   "id": "dfe5fde6",
   "metadata": {},
   "source": [
    "## Abduction"
   ]
  },
  {
   "cell_type": "code",
   "execution_count": 5,
   "id": "f98f94bb",
   "metadata": {},
   "outputs": [
    {
     "name": "stderr",
     "output_type": "stream",
     "text": [
      "/Users/eyujis/Library/Caches/pypoetry/virtualenvs/algorithmic-arc-E897BRAD-py3.11/lib/python3.11/site-packages/pybdm/utils.py:7: UserWarning: pkg_resources is deprecated as an API. See https://setuptools.pypa.io/en/latest/pkg_resources.html. The pkg_resources package is slated for removal as early as 2025-11-30. Refrain from using this package or pin to Setuptools<81.\n",
      "  from pkg_resources import resource_stream\n"
     ]
    },
    {
     "name": "stdout",
     "output_type": "stream",
     "text": [
      "[Filter] x_test complexity: 26.79 (key: 0000000000110011)\n",
      "[Filter] Retaining 3 / 3 training examples (mode=absolute, threshold=2.0)\n",
      "[Filtering] Retained 3 of 3 examples (ruled out 0)\n",
      "[Abduction] Searching for CA rules matching 3 training pairs...\n",
      "[Abduction] Found 206 rules that match all training pairs.\n"
     ]
    }
   ],
   "source": [
    "from algorithmic_inference import AlgorithmicAbductionInduction\n",
    "\n",
    "# Initialize the abducer\n",
    "abducer = AlgorithmicAbductionInduction(num_rules=1_000_000, seed=42, boundary_mode=1)\n",
    "\n",
    "# # Filter training data based on CTM similarity to x_test\n",
    "filtered_xs, filtered_ys = abducer.filter_by_ctm_input(train_xs, train_ys, x_test, mode='absolute', threshold=2.0)\n",
    "\n",
    "print(f\"[Filtering] Retained {len(filtered_xs)} of {len(train_xs)} examples (ruled out {len(train_xs) - len(filtered_xs)})\")\n",
    "\n",
    "# Run abduction on filtered training examples\n",
    "rule_matches = abducer.abduct_rules(filtered_xs, filtered_ys)\n"
   ]
  },
  {
   "cell_type": "markdown",
   "id": "ab3bc6dc",
   "metadata": {},
   "source": [
    "## Ranking by Complexity via BDM"
   ]
  },
  {
   "cell_type": "code",
   "execution_count": 6,
   "id": "786b5ee7",
   "metadata": {},
   "outputs": [
    {
     "name": "stdout",
     "output_type": "stream",
     "text": [
      "[Ranking] Ranking 206 rules by BDM complexity...\n",
      "  Top 1: Rule 6963596591470305002644758069122268265407427564905681393920647450365539577928429027775975748099757603289888210677119408101648403017894252246440762022717638 → BDM = 1277.20\n",
      "  Top 2: Rule 6929464058022831482422511136282689249546783701341824166703737440977330906309606471264082564820479889248694322337256253378271813547786654817591594390401115 → BDM = 1285.75\n",
      "  Top 3: Rule 2982083521103024055739392287248623260248763282030791005198342655596222421505648609370518491559515380937079310042843274131398217047669148777196024325410823 → BDM = 1296.80\n",
      "  Top 4: Rule 8857368800680804046740289526766717613625953919700173928681565965379570079189494721364183052064756109955602275575436172510440151241247105433243112174599077 → BDM = 1308.10\n",
      "  Top 5: Rule 3374620394797911009816601006786740534688079712398148032972611290867654815846266514238526626253592648162885332223873492195243616636582772101501563379531743 → BDM = 1308.43\n",
      "#1: Rule 6963596591470305002644758069122268265407427564905681393920647450365539577928429027775975748099757603289888210677119408101648403017894252246440762022717638 — BDM = 1277.1990\n",
      "#2: Rule 6929464058022831482422511136282689249546783701341824166703737440977330906309606471264082564820479889248694322337256253378271813547786654817591594390401115 — BDM = 1285.7461\n",
      "#3: Rule 2982083521103024055739392287248623260248763282030791005198342655596222421505648609370518491559515380937079310042843274131398217047669148777196024325410823 — BDM = 1296.8026\n",
      "#4: Rule 8857368800680804046740289526766717613625953919700173928681565965379570079189494721364183052064756109955602275575436172510440151241247105433243112174599077 — BDM = 1308.1013\n",
      "#5: Rule 3374620394797911009816601006786740534688079712398148032972611290867654815846266514238526626253592648162885332223873492195243616636582772101501563379531743 — BDM = 1308.4323\n"
     ]
    }
   ],
   "source": [
    "# Rank rules by BDM (1D complexity of 512-bit rule encoding)\n",
    "ranked_rules = abducer.rank_abducted_rules_by_bdm(list(rule_matches.keys()))\n",
    "\n",
    "# Preview top-ranked rules\n",
    "for i, (rule, score) in enumerate(ranked_rules[:5]):\n",
    "    print(f\"#{i+1}: Rule {rule} — BDM = {score:.4f}\")"
   ]
  },
  {
   "cell_type": "markdown",
   "id": "4157ef62",
   "metadata": {},
   "source": [
    "## Induction"
   ]
  },
  {
   "cell_type": "code",
   "execution_count": 7,
   "id": "ab0ade0b",
   "metadata": {},
   "outputs": [
    {
     "name": "stdout",
     "output_type": "stream",
     "text": [
      "[Induction] Applying 206 rules to x_test...\n",
      "[Induction] Generated 25988 unique output candidates from rule applications.\n"
     ]
    }
   ],
   "source": [
    "induced_outputs = abducer.induce_outputs_from_rules(x_test, [r for (r, _) in ranked_rules])"
   ]
  },
  {
   "cell_type": "code",
   "execution_count": 8,
   "id": "6f9245a9",
   "metadata": {},
   "outputs": [
    {
     "name": "stdout",
     "output_type": "stream",
     "text": [
      "[Estimate] Estimating K(y|x_test) for 25988 candidates using 206 rules...\n",
      "  y'#1: k_ctm = inf, m(y|x) = 0.00000, t_min = 0\n",
      "  y'#2: k_ctm = 5.69, m(y|x) = 0.01942, t_min = 1\n",
      "  y'#3: k_ctm = 8.69, m(y|x) = 0.00485, t_min = 2\n",
      "First 3 estimated conditional complexities:\n",
      "\n",
      "Output 1:\n",
      "[[0 0 0 0]\n",
      " [0 0 0 0]\n",
      " [0 0 1 1]\n",
      " [0 0 1 1]]\n",
      "K(y'|x) = inf\n",
      "# Matching Rules = 206, m(y|x) = 0.0000e+00, t_min = 0, t_mean = 0.00\n",
      "----------------------------------------\n",
      "Output 2:\n",
      "[[1 1 1 1]\n",
      " [0 1 1 1]\n",
      " [1 1 0 1]\n",
      " [0 0 1 0]]\n",
      "K(y'|x) = 5.6865\n",
      "# Matching Rules = 4, m(y|x) = 1.9417e-02, t_min = 1, t_mean = 198.50\n",
      "----------------------------------------\n",
      "Output 3:\n",
      "[[0 1 0 0]\n",
      " [0 0 1 0]\n",
      " [0 1 1 0]\n",
      " [1 1 0 1]]\n",
      "K(y'|x) = 8.6865\n",
      "# Matching Rules = 1, m(y|x) = 4.8544e-03, t_min = 2, t_mean = 2.00\n",
      "----------------------------------------\n"
     ]
    }
   ],
   "source": [
    "k_ctm_scores = abducer.estimate_k_ctm(induced_outputs, total_rules=len(ranked_rules), time_metric='t_min')\n",
    "\n",
    "print(\"First 3 estimated conditional complexities:\\n\")\n",
    "for i, (y_key, meta) in enumerate(list(k_ctm_scores.items())[:3]):\n",
    "    matrix = meta['matrix']\n",
    "    k_val = meta['k_ctm']\n",
    "    num_rules = meta['num_rules']\n",
    "    m_prob = meta['m_y_given_x']\n",
    "    t_min = meta['t_min']\n",
    "    t_mean = meta['t_mean']\n",
    "\n",
    "    print(f\"Output {i + 1}:\")\n",
    "    print(matrix)\n",
    "    print(f\"K(y'|x) = {k_val:.4f}\")\n",
    "    print(f\"# Matching Rules = {num_rules}, m(y|x) = {m_prob:.4e}, t_min = {t_min}, t_mean = {t_mean:.2f}\")\n",
    "    print(\"-\" * 40)\n",
    "\n"
   ]
  },
  {
   "cell_type": "code",
   "execution_count": 9,
   "id": "7e073b2d",
   "metadata": {},
   "outputs": [
    {
     "name": "stdout",
     "output_type": "stream",
     "text": [
      "[Selection] Selecting from 25988 candidate outputs...\n",
      "[Selection] Best output selected with k_ctm = 0.00\n",
      "Top 10 ranked inductive hypotheses:\n",
      "\n",
      "Rank 1:\n",
      "[[1 1 1 1]\n",
      " [1 1 1 1]\n",
      " [1 1 0 0]\n",
      " [1 1 0 0]]\n",
      "K(y'|x) = 0.0000\n",
      "# Matching Rules = 206, m(y|x) = 1.0000e+00, t_min = 1, t_mean = 79.89\n",
      "----------------------------------------\n",
      "Rank 2:\n",
      "[[0 1 0 1]\n",
      " [0 0 0 1]\n",
      " [1 1 1 0]\n",
      " [0 1 0 1]]\n",
      "K(y'|x) = 5.3646\n",
      "# Matching Rules = 5, m(y|x) = 2.4272e-02, t_min = 1, t_mean = 152.80\n",
      "----------------------------------------\n",
      "Rank 3:\n",
      "[[1 1 1 1]\n",
      " [0 1 1 1]\n",
      " [1 1 0 1]\n",
      " [0 0 1 0]]\n",
      "K(y'|x) = 5.6865\n",
      "# Matching Rules = 4, m(y|x) = 1.9417e-02, t_min = 1, t_mean = 198.50\n",
      "----------------------------------------\n",
      "Rank 4:\n",
      "[[0 0 1 0]\n",
      " [1 0 0 1]\n",
      " [0 0 0 1]\n",
      " [1 1 1 0]]\n",
      "K(y'|x) = 5.6865\n",
      "# Matching Rules = 4, m(y|x) = 1.9417e-02, t_min = 1, t_mean = 43.50\n",
      "----------------------------------------\n",
      "Rank 5:\n",
      "[[0 1 1 0]\n",
      " [1 0 0 1]\n",
      " [1 0 0 1]\n",
      " [1 0 1 1]]\n",
      "K(y'|x) = 5.6865\n",
      "# Matching Rules = 4, m(y|x) = 1.9417e-02, t_min = 1, t_mean = 98.50\n",
      "----------------------------------------\n",
      "Rank 6:\n",
      "[[1 1 0 0]\n",
      " [1 0 0 1]\n",
      " [1 1 1 0]\n",
      " [1 0 0 0]]\n",
      "K(y'|x) = 5.6865\n",
      "# Matching Rules = 4, m(y|x) = 1.9417e-02, t_min = 1, t_mean = 51.25\n",
      "----------------------------------------\n",
      "Rank 7:\n",
      "[[1 1 1 1]\n",
      " [0 0 1 1]\n",
      " [0 0 1 1]\n",
      " [1 1 1 1]]\n",
      "K(y'|x) = 5.7605\n",
      "# Matching Rules = 19, m(y|x) = 9.2233e-02, t_min = 5, t_mean = 123.89\n",
      "----------------------------------------\n",
      "Rank 8:\n",
      "[[1 1 0 0]\n",
      " [1 1 0 0]\n",
      " [1 1 1 1]\n",
      " [1 1 1 1]]\n",
      "K(y'|x) = 5.9760\n",
      "# Matching Rules = 36, m(y|x) = 1.7476e-01, t_min = 11, t_mean = 106.53\n",
      "----------------------------------------\n",
      "Rank 9:\n",
      "[[0 0 1 1]\n",
      " [0 0 0 1]\n",
      " [0 1 0 0]\n",
      " [0 0 1 0]]\n",
      "K(y'|x) = 6.1015\n",
      "# Matching Rules = 3, m(y|x) = 1.4563e-02, t_min = 1, t_mean = 77.33\n",
      "----------------------------------------\n",
      "Rank 10:\n",
      "[[1 0 1 0]\n",
      " [1 0 1 0]\n",
      " [1 0 1 0]\n",
      " [0 0 1 0]]\n",
      "K(y'|x) = 6.1015\n",
      "# Matching Rules = 3, m(y|x) = 1.4563e-02, t_min = 1, t_mean = 127.33\n",
      "----------------------------------------\n"
     ]
    }
   ],
   "source": [
    "best_hypothesis, sorted_candidates = abducer.select_inductive_hypothesis(k_ctm_scores)\n",
    "\n",
    "print(\"Top 10 ranked inductive hypotheses:\\n\")\n",
    "for i, (y_key, meta) in enumerate(sorted_candidates[:10]):\n",
    "    matrix = meta['matrix']\n",
    "    k_val = meta['k_ctm']\n",
    "    num_rules = meta['num_rules']\n",
    "    m_prob = meta['m_y_given_x']\n",
    "    t_min = meta['t_min']\n",
    "    t_mean = meta['t_mean']\n",
    "\n",
    "    print(f\"Rank {i + 1}:\")\n",
    "    print(matrix)\n",
    "    print(f\"K(y'|x) = {k_val:.4f}\")\n",
    "    print(f\"# Matching Rules = {num_rules}, m(y|x) = {m_prob:.4e}, t_min = {t_min}, t_mean = {t_mean:.2f}\")\n",
    "    print(\"-\" * 40)"
   ]
  },
  {
   "cell_type": "code",
   "execution_count": 10,
   "id": "9c646f72",
   "metadata": {},
   "outputs": [
    {
     "name": "stdout",
     "output_type": "stream",
     "text": [
      "\n",
      "Ground-truth y_test found at rank 1 with K(y'|x) = 0.0000\n"
     ]
    }
   ],
   "source": [
    "for i, (y_key, meta) in enumerate(sorted_candidates):\n",
    "    if np.array_equal(meta['matrix'], y_test):\n",
    "        print(f\"\\nGround-truth y_test found at rank {i + 1} with K(y'|x) = {meta['k_ctm']:.4f}\")\n",
    "        break\n",
    "else:\n",
    "    print(\"\\nGround-truth y_test not found among candidates.\")\n"
   ]
  },
  {
   "cell_type": "code",
   "execution_count": null,
   "id": "c5b44671",
   "metadata": {},
   "outputs": [],
   "source": []
  }
 ],
 "metadata": {
  "kernelspec": {
   "display_name": "Poetry: Algorithmic Arc",
   "language": "python",
   "name": "algorithmic-arc"
  },
  "language_info": {
   "codemirror_mode": {
    "name": "ipython",
    "version": 3
   },
   "file_extension": ".py",
   "mimetype": "text/x-python",
   "name": "python",
   "nbconvert_exporter": "python",
   "pygments_lexer": "ipython3",
   "version": "3.11.8"
  }
 },
 "nbformat": 4,
 "nbformat_minor": 5
}
