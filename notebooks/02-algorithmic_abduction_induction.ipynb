{
 "cells": [
  {
   "cell_type": "code",
   "execution_count": 1,
   "id": "5b64624b",
   "metadata": {},
   "outputs": [],
   "source": [
    "import sys\n",
    "import os\n",
    "\n",
    "project_root = os.path.abspath(\"..\")\n",
    "src_path = os.path.join(project_root, \"src\")\n",
    "\n",
    "if src_path not in sys.path:\n",
    "    sys.path.insert(0, src_path)"
   ]
  },
  {
   "cell_type": "code",
   "execution_count": 2,
   "id": "59ee6f2c",
   "metadata": {},
   "outputs": [],
   "source": [
    "import numpy as np\n",
    "\n",
    "# === Shifts ===\n",
    "def shift_right(mat, steps=1):\n",
    "    return np.roll(mat, shift=steps, axis=1)\n",
    "\n",
    "def shift_left(mat, steps=1):\n",
    "    return np.roll(mat, shift=-steps, axis=1)\n",
    "\n",
    "def shift_down(mat, steps=1):\n",
    "    return np.roll(mat, shift=steps, axis=0)\n",
    "\n",
    "def shift_up(mat, steps=1):\n",
    "    return np.roll(mat, shift=-steps, axis=0)\n",
    "\n",
    "def shift_diag_down_right(mat, steps=1):\n",
    "    return np.roll(np.roll(mat, shift=steps, axis=0), shift=steps, axis=1)\n",
    "\n",
    "def shift_diag_down_left(mat, steps=1):\n",
    "    return np.roll(np.roll(mat, shift=steps, axis=0), shift=-steps, axis=1)\n",
    "\n",
    "def shift_diag_up_right(mat, steps=1):\n",
    "    return np.roll(np.roll(mat, shift=-steps, axis=0), shift=steps, axis=1)\n",
    "\n",
    "def shift_diag_up_left(mat, steps=1):\n",
    "    return np.roll(np.roll(mat, shift=-steps, axis=0), shift=-steps, axis=1)\n",
    "\n",
    "# === New: Rotations (in 90-degree steps) ===\n",
    "def rotate_clockwise(mat, k=1):\n",
    "    \"\"\"Rotate 90 degrees clockwise k times (k=1 means 90°, k=2 means 180°, etc.)\"\"\"\n",
    "    return np.rot90(mat, -k)\n",
    "\n",
    "def rotate_counterclockwise(mat, k=1):\n",
    "    \"\"\"Rotate 90 degrees counterclockwise k times (k=1 means 90°, k=2 means 180°, etc.)\"\"\"\n",
    "    return np.rot90(mat, k)\n",
    "\n",
    "# === New: Bit Inversion ===\n",
    "def invert_bits(mat):\n",
    "    \"\"\"Assumes binary matrix of 0s and 1s\"\"\"\n",
    "    return 1 - mat\n"
   ]
  },
  {
   "cell_type": "code",
   "execution_count": 3,
   "id": "461551d8",
   "metadata": {},
   "outputs": [],
   "source": [
    "transformation = shift_diag_up_right"
   ]
  },
  {
   "cell_type": "markdown",
   "id": "a0bfea1f",
   "metadata": {},
   "source": [
    "## Task Definition"
   ]
  },
  {
   "cell_type": "code",
   "execution_count": 4,
   "id": "3f302df4",
   "metadata": {},
   "outputs": [],
   "source": [
    "# Example 1\n",
    "x1 = np.array([\n",
    "    [1, 1, 0, 0],\n",
    "    [1, 1, 0, 0],\n",
    "    [0, 0, 0, 0],\n",
    "    [0, 0, 0, 0]\n",
    "], dtype=np.uint8)\n",
    "\n",
    "# Example 2\n",
    "x2 = np.array([\n",
    "    [0, 0, 0, 0],\n",
    "    [0, 0, 0, 0],\n",
    "    [0, 0, 1, 1],\n",
    "    [0, 0, 1, 1]\n",
    "], dtype=np.uint8)\n",
    "\n",
    "# Example 3\n",
    "x3 = np.array([\n",
    "    [0, 0, 0, 0],\n",
    "    [0, 0, 1, 1],\n",
    "    [0, 0, 1, 1],\n",
    "    [0, 0, 0, 0]\n",
    "], dtype=np.uint8)\n",
    "\n",
    "# Example 4\n",
    "x4 = np.array([\n",
    "    [1, 0, 0, 0],\n",
    "    [0, 1, 1, 0],\n",
    "    [0, 1, 1, 0],\n",
    "    [0, 0, 0, 1]\n",
    "], dtype=np.uint8)\n",
    "\n",
    "\n",
    "\n",
    "# Test\n",
    "x_test = np.array([\n",
    "    [0, 1, 1, 0],\n",
    "    [0, 1, 1, 0],\n",
    "    [0, 0, 0, 0],\n",
    "    [0, 0, 0, 0]\n",
    "], dtype=np.uint8)\n",
    "\n",
    "\n",
    "\n",
    "train_xs = [x1, x2, x3, x4]\n",
    "train_ys = [transformation(x) for x in train_xs]\n",
    "\n",
    "train_xs = np.stack(train_xs)\n",
    "train_ys = np.stack(train_ys)\n",
    "\n",
    "y_test = transformation(x_test)\n"
   ]
  },
  {
   "cell_type": "markdown",
   "id": "dfe5fde6",
   "metadata": {},
   "source": [
    "## Abduction"
   ]
  },
  {
   "cell_type": "code",
   "execution_count": 5,
   "id": "f98f94bb",
   "metadata": {},
   "outputs": [
    {
     "name": "stderr",
     "output_type": "stream",
     "text": [
      "/Users/eyujis/Library/Caches/pypoetry/virtualenvs/algorithmic-arc-E897BRAD-py3.11/lib/python3.11/site-packages/pybdm/utils.py:7: UserWarning: pkg_resources is deprecated as an API. See https://setuptools.pypa.io/en/latest/pkg_resources.html. The pkg_resources package is slated for removal as early as 2025-11-30. Refrain from using this package or pin to Setuptools<81.\n",
      "  from pkg_resources import resource_stream\n"
     ]
    },
    {
     "name": "stdout",
     "output_type": "stream",
     "text": [
      "[Abduction] Simulating rule matches on training pairs...\n",
      "[Abduction] Found 16 rules that match all training pairs.\n"
     ]
    }
   ],
   "source": [
    "from algorithmic_inference import AlgorithmicAbductionInduction\n",
    "\n",
    "abducer = AlgorithmicAbductionInduction(num_rules=1_000_000, seed=42, boundary_mode=1)\n",
    "rule_matches = abducer.abduct_rules(train_xs, train_ys)\n"
   ]
  },
  {
   "cell_type": "markdown",
   "id": "ab3bc6dc",
   "metadata": {},
   "source": [
    "## Ranking by Complexity via BDM"
   ]
  },
  {
   "cell_type": "code",
   "execution_count": 6,
   "id": "786b5ee7",
   "metadata": {},
   "outputs": [
    {
     "name": "stdout",
     "output_type": "stream",
     "text": [
      "[Ranking] Computing 1D BDM for rules...\n",
      "[Ranking] Done. Ranked 16 rules by simplicity.\n",
      "#1: Rule 8497382428008698701164205460772613303804465326420334061626673838121904031266149444535151948214417135893881835735856905837991100363459362100758944298624909 — BDM = 1328.2577\n",
      "#2: Rule 7991261033543717508783091767196498867541296294016571257950915709989123032432100607402255226256251105546136172880892102016323873207599414602192328163925668 — BDM = 1332.1005\n",
      "#3: Rule 11017158090906613539288879860580644752943514597875536097652089998748471510178749312371967813137652781966162544232650177647376132185594932915578347220616076 — BDM = 1340.2294\n",
      "#4: Rule 783420599889332279150012935349625184700769182056067616088131133623011853388726675025671606463846359856687962340295920687985874181005273020162468998485445 — BDM = 1349.9523\n",
      "#5: Rule 12831753464213468352870962050963575240576995519301465818000050330021745965710187972803375662199299779739274828652861391661661563380170744177720846951093878 — BDM = 1350.2527\n"
     ]
    }
   ],
   "source": [
    "# Rank rules by BDM (1D complexity of 512-bit rule encoding)\n",
    "ranked_rules = abducer.rank_abducted_rules_by_bdm(list(rule_matches.keys()))\n",
    "\n",
    "# Preview top-ranked rules\n",
    "for i, (rule, score) in enumerate(ranked_rules[:5]):\n",
    "    print(f\"#{i+1}: Rule {rule} — BDM = {score:.4f}\")"
   ]
  },
  {
   "cell_type": "markdown",
   "id": "4157ef62",
   "metadata": {},
   "source": [
    "## Induction"
   ]
  },
  {
   "cell_type": "code",
   "execution_count": 7,
   "id": "ab0ade0b",
   "metadata": {},
   "outputs": [],
   "source": [
    "induced_outputs = abducer.induce_outputs_from_rules(x_test, [r for (r, _) in ranked_rules])"
   ]
  },
  {
   "cell_type": "code",
   "execution_count": 8,
   "id": "6f9245a9",
   "metadata": {},
   "outputs": [
    {
     "name": "stdout",
     "output_type": "stream",
     "text": [
      "First 3 estimated conditional complexities:\n",
      "\n",
      "Output 1:\n",
      "[[0 1 1 0]\n",
      " [0 1 1 0]\n",
      " [0 0 0 0]\n",
      " [0 0 0 0]]\n",
      "K(y'|x) = inf\n",
      "# Matching Rules = 16, m(y|x) = 0.0000e+00, t_min = 0, t_mean = 0.00\n",
      "----------------------------------------\n",
      "Output 2:\n",
      "[[0 1 0 0]\n",
      " [0 1 1 1]\n",
      " [1 0 0 0]\n",
      " [1 0 0 1]]\n",
      "K(y'|x) = 4.0000\n",
      "# Matching Rules = 1, m(y|x) = 6.2500e-02, t_min = 1, t_mean = 1.00\n",
      "----------------------------------------\n",
      "Output 3:\n",
      "[[1 1 1 0]\n",
      " [1 0 0 0]\n",
      " [0 0 0 1]\n",
      " [1 1 1 0]]\n",
      "K(y'|x) = 5.0000\n",
      "# Matching Rules = 1, m(y|x) = 6.2500e-02, t_min = 2, t_mean = 2.00\n",
      "----------------------------------------\n"
     ]
    }
   ],
   "source": [
    "k_ctm_scores = abducer.estimate_k_ctm(induced_outputs, total_rules=len(ranked_rules), time_metric='t_min')\n",
    "\n",
    "print(\"First 3 estimated conditional complexities:\\n\")\n",
    "for i, (y_key, meta) in enumerate(list(k_ctm_scores.items())[:3]):\n",
    "    matrix = meta['matrix']\n",
    "    k_val = meta['k_ctm']\n",
    "    num_rules = meta['num_rules']\n",
    "    m_prob = meta['m_y_given_x']\n",
    "    t_min = meta['t_min']\n",
    "    t_mean = meta['t_mean']\n",
    "\n",
    "    print(f\"Output {i + 1}:\")\n",
    "    print(matrix)\n",
    "    print(f\"K(y'|x) = {k_val:.4f}\")\n",
    "    print(f\"# Matching Rules = {num_rules}, m(y|x) = {m_prob:.4e}, t_min = {t_min}, t_mean = {t_mean:.2f}\")\n",
    "    print(\"-\" * 40)\n",
    "\n"
   ]
  },
  {
   "cell_type": "code",
   "execution_count": 9,
   "id": "7e073b2d",
   "metadata": {},
   "outputs": [
    {
     "name": "stdout",
     "output_type": "stream",
     "text": [
      "Top 10 ranked inductive hypotheses:\n",
      "\n",
      "Rank 1:\n",
      "[[0 0 1 1]\n",
      " [0 0 0 0]\n",
      " [0 0 0 0]\n",
      " [0 0 1 1]]\n",
      "K(y'|x) = 3.0000\n",
      "# Matching Rules = 16, m(y|x) = 1.0000e+00, t_min = 8, t_mean = 88.19\n",
      "----------------------------------------\n",
      "Rank 2:\n",
      "[[0 1 0 0]\n",
      " [0 1 1 1]\n",
      " [1 0 0 0]\n",
      " [1 0 0 1]]\n",
      "K(y'|x) = 4.0000\n",
      "# Matching Rules = 1, m(y|x) = 6.2500e-02, t_min = 1, t_mean = 1.00\n",
      "----------------------------------------\n",
      "Rank 3:\n",
      "[[0 0 0 0]\n",
      " [0 0 0 0]\n",
      " [1 0 0 1]\n",
      " [1 0 0 1]]\n",
      "K(y'|x) = 4.0000\n",
      "# Matching Rules = 16, m(y|x) = 1.0000e+00, t_min = 16, t_mean = 109.62\n",
      "----------------------------------------\n",
      "Rank 4:\n",
      "[[1 0 0 0]\n",
      " [1 0 0 0]\n",
      " [0 0 1 1]\n",
      " [1 0 1 1]]\n",
      "K(y'|x) = 4.0000\n",
      "# Matching Rules = 1, m(y|x) = 6.2500e-02, t_min = 1, t_mean = 1.00\n",
      "----------------------------------------\n",
      "Rank 5:\n",
      "[[0 0 0 0]\n",
      " [1 1 1 0]\n",
      " [0 0 1 0]\n",
      " [0 1 1 0]]\n",
      "K(y'|x) = 4.0000\n",
      "# Matching Rules = 1, m(y|x) = 6.2500e-02, t_min = 1, t_mean = 1.00\n",
      "----------------------------------------\n",
      "Rank 6:\n",
      "[[0 1 1 0]\n",
      " [0 0 0 1]\n",
      " [1 0 0 0]\n",
      " [1 1 0 0]]\n",
      "K(y'|x) = 4.0000\n",
      "# Matching Rules = 1, m(y|x) = 6.2500e-02, t_min = 1, t_mean = 1.00\n",
      "----------------------------------------\n",
      "Rank 7:\n",
      "[[1 1 0 0]\n",
      " [1 0 0 0]\n",
      " [1 0 1 1]\n",
      " [1 0 1 1]]\n",
      "K(y'|x) = 4.0000\n",
      "# Matching Rules = 1, m(y|x) = 6.2500e-02, t_min = 1, t_mean = 1.00\n",
      "----------------------------------------\n",
      "Rank 8:\n",
      "[[1 1 0 0]\n",
      " [0 0 1 0]\n",
      " [1 1 1 0]\n",
      " [0 0 0 0]]\n",
      "K(y'|x) = 4.0000\n",
      "# Matching Rules = 1, m(y|x) = 6.2500e-02, t_min = 1, t_mean = 1.00\n",
      "----------------------------------------\n",
      "Rank 9:\n",
      "[[1 0 0 1]\n",
      " [1 0 0 1]\n",
      " [1 0 0 0]\n",
      " [1 0 1 0]]\n",
      "K(y'|x) = 4.0000\n",
      "# Matching Rules = 2, m(y|x) = 1.2500e-01, t_min = 2, t_mean = 11.50\n",
      "----------------------------------------\n",
      "Rank 10:\n",
      "[[0 0 1 0]\n",
      " [0 0 0 1]\n",
      " [1 0 1 0]\n",
      " [0 1 1 1]]\n",
      "K(y'|x) = 4.0000\n",
      "# Matching Rules = 1, m(y|x) = 6.2500e-02, t_min = 1, t_mean = 1.00\n",
      "----------------------------------------\n"
     ]
    }
   ],
   "source": [
    "best_hypothesis, sorted_candidates = abducer.select_inductive_hypothesis(k_ctm_scores)\n",
    "\n",
    "print(\"Top 10 ranked inductive hypotheses:\\n\")\n",
    "for i, (y_key, meta) in enumerate(sorted_candidates[:10]):\n",
    "    matrix = meta['matrix']\n",
    "    k_val = meta['k_ctm']\n",
    "    num_rules = meta['num_rules']\n",
    "    m_prob = meta['m_y_given_x']\n",
    "    t_min = meta['t_min']\n",
    "    t_mean = meta['t_mean']\n",
    "\n",
    "    print(f\"Rank {i + 1}:\")\n",
    "    print(matrix)\n",
    "    print(f\"K(y'|x) = {k_val:.4f}\")\n",
    "    print(f\"# Matching Rules = {num_rules}, m(y|x) = {m_prob:.4e}, t_min = {t_min}, t_mean = {t_mean:.2f}\")\n",
    "    print(\"-\" * 40)"
   ]
  },
  {
   "cell_type": "code",
   "execution_count": 10,
   "id": "9c646f72",
   "metadata": {},
   "outputs": [
    {
     "name": "stdout",
     "output_type": "stream",
     "text": [
      "\n",
      "Ground-truth y_test found at rank 1 with K(y'|x) = 3.0000\n"
     ]
    }
   ],
   "source": [
    "for i, (y_key, meta) in enumerate(sorted_candidates):\n",
    "    if np.array_equal(meta['matrix'], y_test):\n",
    "        print(f\"\\nGround-truth y_test found at rank {i + 1} with K(y'|x) = {meta['k_ctm']:.4f}\")\n",
    "        break\n",
    "else:\n",
    "    print(\"\\nGround-truth y_test not found among candidates.\")\n"
   ]
  },
  {
   "cell_type": "code",
   "execution_count": null,
   "id": "c5b44671",
   "metadata": {},
   "outputs": [],
   "source": []
  }
 ],
 "metadata": {
  "kernelspec": {
   "display_name": "Poetry: Algorithmic Arc",
   "language": "python",
   "name": "algorithmic-arc"
  },
  "language_info": {
   "codemirror_mode": {
    "name": "ipython",
    "version": 3
   },
   "file_extension": ".py",
   "mimetype": "text/x-python",
   "name": "python",
   "nbconvert_exporter": "python",
   "pygments_lexer": "ipython3",
   "version": "3.11.8"
  }
 },
 "nbformat": 4,
 "nbformat_minor": 5
}
