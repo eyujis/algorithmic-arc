{
 "cells": [
  {
   "cell_type": "code",
   "execution_count": 7,
   "id": "a750ce29",
   "metadata": {},
   "outputs": [],
   "source": [
    "import sys\n",
    "import os\n",
    "\n",
    "project_root = os.path.abspath(\"..\")\n",
    "src_path = os.path.join(project_root, \"src\")\n",
    "\n",
    "if src_path not in sys.path:\n",
    "    sys.path.insert(0, src_path)"
   ]
  },
  {
   "cell_type": "code",
   "execution_count": null,
   "id": "159c8e25",
   "metadata": {},
   "outputs": [
    {
     "name": "stdout",
     "output_type": "stream",
     "text": [
      "✅ Loaded task with transformation: bit_inversion\n"
     ]
    }
   ],
   "source": [
    "import sys\n",
    "import os\n",
    "from pathlib import Path\n",
    "import json\n",
    "import numpy as np\n",
    "\n",
    "# === 1. Set up sys.path and base paths\n",
    "project_root = Path(os.path.abspath(\"..\"))\n",
    "src_path = project_root / \"src\"\n",
    "\n",
    "if str(src_path) not in sys.path:\n",
    "    sys.path.insert(0, str(src_path))\n",
    "\n",
    "# === 2. Define the path to the task file using src_path\n",
    "task_path = src_path / \"algorithmic_arc\" / \"data\" / \"easy\" / \"task_0001_bit_inversion_42.json\"\n",
    "\n",
    "# === 3. Load the JSON\n",
    "with open(task_path, \"r\") as f:\n",
    "    task = json.load(f)\n",
    "\n",
    "# === 4. Extract training and test matrices\n",
    "x_train_list = [np.array(pair[\"input\"], dtype=np.uint8) for pair in task[\"train\"]]\n",
    "y_train_list = [np.array(pair[\"output\"], dtype=np.uint8) for pair in task[\"train\"]]\n",
    "\n",
    "x_test_list = [np.array(pair[\"input\"], dtype=np.uint8) for pair in task[\"test\"]]\n",
    "y_test_list = [np.array(pair[\"output\"], dtype=np.uint8) for pair in task[\"test\"]]\n",
    "\n",
    "\n",
    "\n",
    "# === 5. Metadata (optional)\n",
    "metadata = task.get(\"metadata\", {})\n",
    "print(\"✅ Loaded task with transformation:\", metadata.get(\"transformation\"))\n"
   ]
  },
  {
   "cell_type": "code",
   "execution_count": null,
   "id": "42501174",
   "metadata": {},
   "outputs": [
    {
     "name": "stdout",
     "output_type": "stream",
     "text": [
      "[Abduction] Searching for CA rules matching 4 training pairs...\n",
      "[Abduction] Found 105 rules that match all training pairs.\n",
      "[Ranking] Ranking 105 rules by BDM complexity...\n",
      "  Top 1: Rule 10884209551881969245819379311808297169324634998010295279954656404924360229703121458492150278993781400042568532571033302632048419066405073716981033447873446 → BDM = 1320.36\n",
      "  Top 2: Rule 8050416027085303650575712335392915054940427043490036146606642523618912072940174493294390653142433294614425242697547554295461251227152401765175448381682424 → BDM = 1323.02\n",
      "  Top 3: Rule 9604180801609275372991096570986898169761325940656860382865273664186918156441990231609274093050846897267958363217888626119364694153388876981198692522609769 → BDM = 1327.45\n",
      "  Top 4: Rule 12800146012249376503802734260961956585354857281664359050679705549321648902468512048009569202451485526604812911912453826422604706915032888201998415174126532 → BDM = 1328.84\n",
      "  Top 5: Rule 7137837296053334442962179437018027360694850503905864673311901517827045086421961136977231397305745066671522879884530483964609110074496329971595207718156388 → BDM = 1330.42\n",
      "[Induction] Applying 50 rules to x_test...\n",
      "[Induction] Generated 4067 unique output candidates from rule applications.\n",
      "[Estimate] Estimating K(y|x_test) for 4067 candidates using 100000 rules...\n",
      "  y'#1: k_ctm = inf, m(y|x) = 0.00000, t_min = 0\n",
      "  y'#2: k_ctm = 16.61, m(y|x) = 0.00001, t_min = 1\n",
      "  y'#3: k_ctm = 17.61, m(y|x) = 0.00001, t_min = 2\n",
      "[Selection] Selecting from 4067 candidate outputs...\n",
      "[Selection] Best output selected with k_ctm = 12.55\n",
      "[[1 1 1 1]\n",
      " [1 1 1 1]\n",
      " [0 0 1 1]\n",
      " [0 0 1 1]]\n",
      "[[1 1 1 1]\n",
      " [1 1 1 1]\n",
      " [0 0 1 1]\n",
      " [0 0 1 1]]\n"
     ]
    }
   ],
   "source": [
    "from algorithmic_inference.algorithmic_abduction_induction import AlgorithmicAbductionInduction\n",
    "\n",
    "# Instantiate the abduction-induction engine\n",
    "abduction_engine = AlgorithmicAbductionInduction(\n",
    "    num_rules=100_000,\n",
    "    top_k=50,\n",
    "    seed=123,\n",
    "    boundary_mode=1,\n",
    "    max_steps=128,\n",
    "    verbose=True\n",
    ")\n",
    "\n",
    "# Stack the training inputs into a 3D numpy array\n",
    "xs = np.stack(x_train_list, axis=0)\n",
    "ys = np.stack(y_train_list, axis=0)\n",
    "x_test = x_test_list[0]\n",
    "y_true = y_test_list[0]\n",
    "\n",
    "\n",
    "y_pred = abduction_engine.run(xs, ys, x_test)"
   ]
  },
  {
   "cell_type": "code",
   "execution_count": null,
   "id": "099d665c",
   "metadata": {},
   "outputs": [],
   "source": []
  }
 ],
 "metadata": {
  "kernelspec": {
   "display_name": "Poetry: Algorithmic Arc",
   "language": "python",
   "name": "algorithmic-arc"
  },
  "language_info": {
   "codemirror_mode": {
    "name": "ipython",
    "version": 3
   },
   "file_extension": ".py",
   "mimetype": "text/x-python",
   "name": "python",
   "nbconvert_exporter": "python",
   "pygments_lexer": "ipython3",
   "version": "3.11.8"
  }
 },
 "nbformat": 4,
 "nbformat_minor": 5
}
